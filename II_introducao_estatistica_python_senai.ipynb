{
  "nbformat": 4,
  "nbformat_minor": 0,
  "metadata": {
    "colab": {
      "provenance": [],
      "authorship_tag": "ABX9TyNoWAZZZIZyjcwU+wMr8+8k",
      "include_colab_link": true
    },
    "kernelspec": {
      "name": "python3",
      "display_name": "Python 3"
    },
    "language_info": {
      "name": "python"
    }
  },
  "cells": [
    {
      "cell_type": "markdown",
      "metadata": {
        "id": "view-in-github",
        "colab_type": "text"
      },
      "source": [
        "<a href=\"https://colab.research.google.com/github/thaiinaaalves/II_introducao_estatistica_python_senai/blob/main/II_introducao_estatistica_python_senai.ipynb\" target=\"_parent\"><img src=\"https://colab.research.google.com/assets/colab-badge.svg\" alt=\"Open In Colab\"/></a>"
      ]
    },
    {
      "cell_type": "markdown",
      "source": [
        "Aula 3 - 23/10/2024 - Introdução a estatística"
      ],
      "metadata": {
        "id": "_e-ozB3Qhd6d"
      }
    },
    {
      "cell_type": "code",
      "source": [
        "import statistics as st\n",
        "import mach"
      ],
      "metadata": {
        "id": "BH-N8TJUAfFh"
      },
      "execution_count": null,
      "outputs": []
    },
    {
      "cell_type": "code",
      "source": [
        "#dados de exemplo\n",
        "x = [1,2,3,4,5]\n",
        "y = [2,3,4,5,6]"
      ],
      "metadata": {
        "id": "9XSbdDhGAlMA"
      },
      "execution_count": null,
      "outputs": []
    },
    {
      "cell_type": "code",
      "execution_count": null,
      "metadata": {
        "id": "ZE37O_WE-tOC"
      },
      "outputs": [],
      "source": [
        "#media de x\n",
        "media_x = st.mena(x)\n",
        "media_x"
      ]
    },
    {
      "cell_type": "code",
      "source": [
        "media_y = st.mena(y)\n",
        "media_y"
      ],
      "metadata": {
        "id": "s1gumZuLAX46"
      },
      "execution_count": null,
      "outputs": []
    },
    {
      "cell_type": "code",
      "source": [
        "#calculo de variância e covariância\n",
        "covariancia = sum ((x[i] - media_x) * (y[i]-media_y) for i in range(len(x)))\n",
        "covariancia = sum ((x-media_x)**2 for x in x)"
      ],
      "metadata": {
        "id": "_h9BmyBrNEvZ"
      },
      "execution_count": null,
      "outputs": []
    },
    {
      "cell_type": "code",
      "source": [
        "#calcular coeficiente de inclinação (b1)\n",
        "b1 = covariancia/variancia\n",
        "\n",
        "#calcular coeficiente de intercepto (b0)\n",
        "b0 = media_y - (b1*media_x)"
      ],
      "metadata": {
        "id": "v1fE13oMPxWB"
      },
      "execution_count": null,
      "outputs": []
    },
    {
      "cell_type": "code",
      "source": [
        "#imprimir os coeficientes\n",
        "print('Coeficiente de inclinação (b1):', b1)\n",
        "print('Coeficiente de intercepto (b0):', b0)"
      ],
      "metadata": {
        "id": "o0qaUjU7ROKs"
      },
      "execution_count": null,
      "outputs": []
    },
    {
      "cell_type": "code",
      "source": [
        "#Exercicio de aplicação\n",
        "#Responda, baseado nas seguintes informações podemos concluir que uma pessoa que tem mais horas de estudo tira mais nota?\n",
        "#horas de estudo\n",
        "horas = [3,4,5,6,7,8,9,10]\n",
        "\n",
        "#notas obtidas\n",
        "notas = [70,75,80,85,88,90,92,95]"
      ],
      "metadata": {
        "id": "out10l00idiw"
      },
      "execution_count": null,
      "outputs": []
    },
    {
      "cell_type": "code",
      "source": [
        "#importando a biblioteca necessaria para lidar com estatística\n",
        "import statistics as st"
      ],
      "metadata": {
        "id": "V9EYFc5iXta0"
      },
      "execution_count": null,
      "outputs": []
    },
    {
      "cell_type": "code",
      "source": [
        "#definindo os dados de horas de estudo (em horas por semana) e notas dos alunos\n",
        "horas_estudo = [5, 7, 3, 8, 6, 4, 9, 5, 7, 6]\n",
        "notas = [75, 85, 60, 90, 80, 70, 95, 75, 85, 80]"
      ],
      "metadata": {
        "id": "TWhIaMaXYwSy"
      },
      "execution_count": null,
      "outputs": []
    },
    {
      "cell_type": "code",
      "source": [
        "#calculando a correlação entre as duas variáveis\n",
        "correlacao = st.correlation(horas_estudo, notas)"
      ],
      "metadata": {
        "id": "UYaaVoKnZTcl"
      },
      "execution_count": null,
      "outputs": []
    },
    {
      "cell_type": "code",
      "source": [
        "#exibindo o resultado\n",
        "print ('Correlação entre horas de estudo e notas dos alunos:', correlacao)"
      ],
      "metadata": {
        "colab": {
          "base_uri": "https://localhost:8080/"
        },
        "id": "Bg2tXM4BZlrb",
        "outputId": "85c334b7-828f-430c-d02a-924555105dc9"
      },
      "execution_count": null,
      "outputs": [
        {
          "output_type": "stream",
          "name": "stdout",
          "text": [
            "Correlação entre horas de estudo e notas dos alunos: 0.9918365981341755\n"
          ]
        }
      ]
    },
    {
      "cell_type": "code",
      "source": [
        "#mediana está mais próxima da tendência central\n",
        "#desvio padrão é a margem de erro. O resultado motrs o quão aderente o desvio está com amédia. ATé 0,9 o resultado é aceitavel, porém a paryir\n",
        "#de 0,10 torna-se perigoso"
      ],
      "metadata": {
        "id": "6lm5zR2EkjmM"
      },
      "execution_count": null,
      "outputs": []
    },
    {
      "cell_type": "code",
      "source": [
        "#1- Suponha que você está analisando o desempenho de um atleta em cinco corridas diferentes. Os tempos (em minutos) que o atleta levou para completar\n",
        "#cada corrida são os seguintes: [10, 15, 20, 25, 30]. Você deseja calcular:\n",
        "#a) o tempo médio que o atleta levou para completar as corridas\n",
        "#b) melhor tempo"
      ],
      "metadata": {
        "id": "ZZSUXRT0aFzk"
      },
      "execution_count": null,
      "outputs": []
    },
    {
      "cell_type": "code",
      "source": [
        "tempo=[10, 15, 20, 25, 30]\n",
        "tempo = st.mean(tempo)\n",
        "print('O tempo médio é:', tempo)"
      ],
      "metadata": {
        "colab": {
          "base_uri": "https://localhost:8080/"
        },
        "id": "fLdwmJJsd-AV",
        "outputId": "42be6285-64f9-454c-87ce-504b75efc0e0"
      },
      "execution_count": null,
      "outputs": [
        {
          "output_type": "stream",
          "name": "stdout",
          "text": [
            "O tempo médio é: 20\n"
          ]
        }
      ]
    },
    {
      "cell_type": "code",
      "source": [
        "tempo=[10, 15, 20, 25, 30]\n",
        "tempo = st.mode(tempo)\n",
        "print('O melhor tempo é:', tempo)"
      ],
      "metadata": {
        "colab": {
          "base_uri": "https://localhost:8080/"
        },
        "id": "JoWsD7F-fYTt",
        "outputId": "1159f8c6-d9c8-4ffd-b05b-a3cf6dc24819"
      },
      "execution_count": null,
      "outputs": [
        {
          "output_type": "stream",
          "name": "stdout",
          "text": [
            "O melhor tempo é: 10\n"
          ]
        }
      ]
    },
    {
      "cell_type": "code",
      "source": [
        "\"\"\"Imagine que você está estudando o tempo que leva para os alunos/funcionários chegarem ao Senai e qual seria o meio de transporte:\n",
        "a.Metro/Trem\n",
        "b.Carro\n",
        "c.Moto\n",
        "d.Outro\n",
        "Anote o tempo (em minuto), que cada aluno leva para chegar á escola e:\n",
        "a.Metro/Trem\n",
        "b.Carro\n",
        "c.Moto\n",
        "d.Outro\"\"\""
      ],
      "metadata": {
        "id": "ydQeVx6pflKn"
      },
      "execution_count": null,
      "outputs": []
    },
    {
      "cell_type": "code",
      "source": [
        "Metro_Trem = [40, 25, 15, 40, 28]\n",
        "Carro = [30, 25, 15, 40, 28]\n",
        "Moto = [20, 18, 35, 22, 33]\n",
        "Outro = [30, 25, 15, 40, 28]\n",
        "\n",
        "Metro_Trem = st.median(Metro_Trem)\n",
        "print ('Mediana tempo metro trem:', Metro_Trem)\n",
        "\n",
        "Carro = st.median(Carro)\n",
        "print ('Mediana tempo carro:', Carro)\n",
        "\n",
        "Moto = st.median(Moto)\n",
        "print ('Mediana tempo moto:', Moto)\n",
        "\n",
        "Outro = st.median(Outro)\n",
        "print ('Mediana tempo outro:', Outro)"
      ],
      "metadata": {
        "colab": {
          "base_uri": "https://localhost:8080/"
        },
        "id": "mfS_dmt0a_iV",
        "outputId": "9f18ef0e-33f0-49fd-a828-dfd216b60809"
      },
      "execution_count": null,
      "outputs": [
        {
          "output_type": "stream",
          "name": "stdout",
          "text": [
            "Mediana tempo metro trem: 28\n",
            "Mediana tempo carro: 28\n",
            "Mediana tempo moto: 22\n",
            "Mediana tempo outro: 28\n"
          ]
        }
      ]
    },
    {
      "cell_type": "code",
      "source": [
        "import pandas as pd"
      ],
      "metadata": {
        "id": "61f_TkuQzb7D"
      },
      "execution_count": null,
      "outputs": []
    },
    {
      "cell_type": "code",
      "source": [
        "dados = {\n",
        "    'Nome': ['Alice', 'Bruno', 'Carla', 'Diego', 'Eva', 'Felipe', 'Gustavo', 'Helena', 'Igor', 'Juliana'],\n",
        "    'Meio de Transporte': ['Metro/Trem', 'Carro', 'Moto', 'Outro', 'Metro/Trem', 'Carro', 'Moto', 'Outro', 'Carro', 'Metro/Trem'],\n",
        "    'Tempo (minutos)': [30, 25, 15, 40, 28, 20, 18, 35, 22, 33]\n",
        "}\n",
        "\n",
        "# Criando o DataFrame\n",
        "df = pd.DataFrame(dados)"
      ],
      "metadata": {
        "id": "OEHJPMj51M7j"
      },
      "execution_count": null,
      "outputs": []
    },
    {
      "cell_type": "code",
      "source": [
        "df_resumo = df.describe()\n",
        "print(df_resumo)"
      ],
      "metadata": {
        "colab": {
          "base_uri": "https://localhost:8080/"
        },
        "id": "kxxUZmBf1Tqj",
        "outputId": "c05a3de8-2922-4546-e2b7-53b0d2b3d52e"
      },
      "execution_count": null,
      "outputs": [
        {
          "output_type": "stream",
          "name": "stdout",
          "text": [
            "       Tempo (minutos)\n",
            "count        10.000000\n",
            "mean         26.600000\n",
            "std           8.030497\n",
            "min          15.000000\n",
            "25%          20.500000\n",
            "50%          26.500000\n",
            "75%          32.250000\n",
            "max          40.000000\n"
          ]
        }
      ]
    },
    {
      "cell_type": "code",
      "source": [
        "Notas = [60, 70, 80, 90, 100]\n",
        "desvio_padrao = st.stdev(Notas)\n",
        "print('O desvio padrão é:', desvio_padrao)"
      ],
      "metadata": {
        "colab": {
          "base_uri": "https://localhost:8080/"
        },
        "id": "ckJK5KiVYFGd",
        "outputId": "121c5373-3783-4ad4-c1a0-163997e27ef8"
      },
      "execution_count": null,
      "outputs": [
        {
          "output_type": "stream",
          "name": "stdout",
          "text": [
            "O desvio padrão é: 15.811388300841896\n"
          ]
        }
      ]
    },
    {
      "cell_type": "code",
      "source": [
        "dados = [1, 2, 3, 2, 1, 1, 2, 3, 2, 2]\n",
        "modo = st.mode(dados)\n",
        "print('A maioria dos alunos come pizza em média', modo)"
      ],
      "metadata": {
        "colab": {
          "base_uri": "https://localhost:8080/"
        },
        "id": "5h7JMs00ocAc",
        "outputId": "1ee2fe2e-bbc0-4bb7-9971-8a752a477381"
      },
      "execution_count": null,
      "outputs": [
        {
          "output_type": "stream",
          "name": "stdout",
          "text": [
            "A maioria dos alunos come pizza em média vezes por semana. 2\n"
          ]
        }
      ]
    },
    {
      "cell_type": "code",
      "source": [
        "tempo_corrida = [10, 15, 20, 25, 30]\n",
        "tempo_corrida_media = st.mean(tempo_corrida)\n",
        "tempo_corrida_min = min(tempo_corrida)\n",
        "print(f'O tempo médio para completar a corrida é:', tempo_corrida_media)\n",
        "print(f'O melhor tempo para completar a corrida é:', tempo_corrida_min)"
      ],
      "metadata": {
        "colab": {
          "base_uri": "https://localhost:8080/"
        },
        "id": "O4EJWM8trOdt",
        "outputId": "159c40d6-9eeb-4ffa-8eb7-f685e360fd36"
      },
      "execution_count": null,
      "outputs": [
        {
          "output_type": "stream",
          "name": "stdout",
          "text": [
            "O tempo médio para completar a corrida é: 20\n",
            "O melhor tempo para completar a corrida é: 10\n"
          ]
        }
      ]
    },
    {
      "cell_type": "markdown",
      "source": [
        "**Análise de Dados de Corrida e Transporte**\n",
        "\n",
        "1.   Análise de Tempo de Corrida\n",
        "2.   Análise de Meios de Transporte\n",
        "3.   Frequência de Consumo de Pizza\n",
        "4.   Desvio Padrão de Notas"
      ],
      "metadata": {
        "id": "MsS6Ir_hmSRI"
      }
    },
    {
      "cell_type": "code",
      "source": [
        "import pandas as pd\n",
        "import statistics as st"
      ],
      "metadata": {
        "id": "qqXe9pSImUCc"
      },
      "execution_count": null,
      "outputs": []
    },
    {
      "cell_type": "code",
      "source": [
        "'Exercicío 1'\n",
        "tempo_corrida = [10, 15, 20, 25, 30]\n",
        "tempo_corrida_media = st.mean(tempo_corrida)\n",
        "tempo_corrida_min = min(tempo_corrida)\n",
        "print('O tempo médio para completar a corrida é:', tempo_corrida_media)\n",
        "print('O melhor tempo para completar a corrida é:', tempo_corrida_min)"
      ],
      "metadata": {
        "id": "qoORqL54mbg2"
      },
      "execution_count": null,
      "outputs": []
    },
    {
      "cell_type": "code",
      "source": [
        "'Exercicío 2'\n",
        "dados = {\n",
        "    'Nome': ['Alice', 'Bruno', 'Carla', 'Diego', 'Eva', 'Felipe', 'Gustavo', 'Helena', 'Igor', 'Juliana'],\n",
        "    'Meio de Transporte': ['Metro/Trem', 'Carro', 'Moto', 'Outro', 'Metro/Trem', 'Carro', 'Moto', 'Outro', 'Carro', 'Metro/Trem'],\n",
        "    'Tempo (minutos)': [30, 25, 15, 40, 28, 20, 18, 35, 22, 33]\n",
        "}\n",
        "\n",
        "# Criando o DataFrame\n",
        "df = pd.DataFrame(dados)\n",
        "df_resumo = df.describe()\n",
        "print(df_resumo)"
      ],
      "metadata": {
        "id": "Rw9HsV9tnDbv"
      },
      "execution_count": null,
      "outputs": []
    },
    {
      "cell_type": "code",
      "source": [
        "Metro_Trem = [40, 25, 15, 40, 28]\n",
        "Carro = [30, 25, 15, 40, 28]\n",
        "Moto = [20, 18, 35, 22, 33]\n",
        "Outro = [30, 25, 15, 40, 28]\n",
        "\n",
        "Metro_Trem = st.median(Metro_Trem)\n",
        "print ('Mediana tempo metro trem:', Metro_Trem)\n",
        "\n",
        "Carro = st.median(Carro)\n",
        "print ('Mediana tempo carro:', Carro)\n",
        "\n",
        "Moto = st.median(Moto)\n",
        "print ('Mediana tempo moto:', Moto)\n",
        "\n",
        "Outro = st.median(Outro)\n",
        "print ('Mediana tempo outro:', Outro)"
      ],
      "metadata": {
        "id": "kp2qfnmPnGXV"
      },
      "execution_count": null,
      "outputs": []
    },
    {
      "cell_type": "code",
      "source": [
        "'Exercicío 3'\n",
        "dados = [1, 2, 3, 2, 1, 1, 2, 3, 2, 2]\n",
        "modo = st.mode(dados)\n",
        "print('A maioria dos alunos come pizza em média', modo)"
      ],
      "metadata": {
        "id": "PMDSSG1pnMXq"
      },
      "execution_count": null,
      "outputs": []
    },
    {
      "cell_type": "code",
      "source": [
        "'Exercicío 4'\n",
        "Notas = [60, 70, 80, 90, 100]\n",
        "desvio_padrao = st.stdev(Notas)\n",
        "print('O desvio padrão é:', desvio_padrao)"
      ],
      "metadata": {
        "id": "VEy57JDhnPPM"
      },
      "execution_count": null,
      "outputs": []
    },
    {
      "cell_type": "markdown",
      "source": [
        "\n",
        "Aula 4 - 31/10/2024 - Funções Simples"
      ],
      "metadata": {
        "id": "foHDab_Tqauj"
      }
    },
    {
      "cell_type": "code",
      "source": [
        "import pandas as pd"
      ],
      "metadata": {
        "id": "gTbNqaarsZq4"
      },
      "execution_count": null,
      "outputs": []
    },
    {
      "cell_type": "code",
      "source": [
        "#Series\n",
        "s1=pd.Series([1,2,-5,0])\n",
        "s1"
      ],
      "metadata": {
        "id": "Jw3rjKh0sdgR"
      },
      "execution_count": null,
      "outputs": []
    },
    {
      "cell_type": "code",
      "source": [
        "s1.values"
      ],
      "metadata": {
        "id": "asr0AvEFsfi_"
      },
      "execution_count": null,
      "outputs": []
    },
    {
      "cell_type": "code",
      "source": [
        "s2=s1\n",
        "s2=pd.Series([1,2,-5.0], index=['a','b','c'])\n",
        "s2"
      ],
      "metadata": {
        "id": "VDa_3Elssn3P"
      },
      "execution_count": null,
      "outputs": []
    },
    {
      "cell_type": "code",
      "source": [
        "#comparação\n",
        "s2[s2>0]"
      ],
      "metadata": {
        "id": "8g75wZKtsrAR"
      },
      "execution_count": null,
      "outputs": []
    },
    {
      "cell_type": "code",
      "source": [
        "#algebra\n",
        "s2*2"
      ],
      "metadata": {
        "id": "Pv2n5mUEsvsz"
      },
      "execution_count": null,
      "outputs": []
    },
    {
      "cell_type": "code",
      "source": [
        "s2.isnull()"
      ],
      "metadata": {
        "id": "d6th9VAzsziZ"
      },
      "execution_count": null,
      "outputs": []
    },
    {
      "cell_type": "code",
      "source": [
        "#criar Dataframe\n",
        "dados={'estado':['SP', 'MG', 'PR', 'SP', 'PR'],\n",
        "      'ano': [2000,2001,2002,2001,2002],\n",
        "      'pop':[1.5,1.7,3.6,2.4,2.9]}"
      ],
      "metadata": {
        "id": "XJvZXbAKs2Vn"
      },
      "execution_count": null,
      "outputs": []
    },
    {
      "cell_type": "code",
      "source": [
        "df1=pd.DataFrame(dados)\n",
        "df1"
      ],
      "metadata": {
        "id": "fOMorbbEs5eC"
      },
      "execution_count": null,
      "outputs": []
    },
    {
      "cell_type": "code",
      "source": [
        "df1.head()"
      ],
      "metadata": {
        "id": "APh8n6PJs8CY"
      },
      "execution_count": null,
      "outputs": []
    },
    {
      "cell_type": "code",
      "source": [
        "df1.tail()"
      ],
      "metadata": {
        "id": "m5i-9h0Ks-be"
      },
      "execution_count": null,
      "outputs": []
    },
    {
      "cell_type": "code",
      "source": [
        "df1.sample(2)"
      ],
      "metadata": {
        "id": "6aKh6fRVtA1X"
      },
      "execution_count": null,
      "outputs": []
    },
    {
      "cell_type": "markdown",
      "source": [
        "Exercício"
      ],
      "metadata": {
        "id": "uvMOMQEpsCMz"
      }
    },
    {
      "cell_type": "code",
      "source": [
        "'''Você foi contratado (a) para analisar os dados de produção de uma fábrica que fabrica três produtos diferentes. A cada semana,\n",
        "a fábrica gera um relatório com a produção de cada produto, e seu objetivo é analisar e manipular esses dados usando Numpy. A\n",
        "fábrica quer simular os dados de produção de 6 semanas para três produtos (A, B, C). Cada produto tem uma produção aleatória entre\n",
        "50 e 150 unidades por semana.\n",
        "\n",
        "•  Use a função np.random.randint para criar uma matriz 6x3 (6 semanas, 3 produtos) com os valores de produção para cada semana.\n",
        "\n",
        "Agora que você tem os dados de produção, faça os seguintes cálculos:\n",
        "•  Calcule a média de produção de cada produto (A, B e C) ao longo das 6 semanas.\n",
        "•  Descubra em qual semana houve a maior produção total (soma de todos os produtos).\n",
        "\n",
        "Após análise, a fábrica decidiu aumentar a produção dos produtos A e C em 20% e reduzir a produção do produto B em 10%.\n",
        "•  Atualize os valores na matriz de produção para refletir esse ajuste.\n",
        "\n",
        "•  A fábrica quer saber se o aumento foi significativo\n",
        "\n",
        "•  Utilize uma máscara booleana para identificar quais semanas tiveram produção acima de 120 para qualquer um dos produtos.\n",
        "\n",
        "Parte 5: Transposição e Operações Matriciais\n",
        "Para uma melhor visualização, a fábrica quer ver os dados transpostos.\n",
        "\n",
        "•  Transponha a matriz de produção para que as semanas sejam representadas em colunas e os produtos em linhas.'''"
      ],
      "metadata": {
        "id": "uZWc1MSVqlm1"
      },
      "execution_count": null,
      "outputs": []
    },
    {
      "cell_type": "code",
      "source": [
        "import numpy as np"
      ],
      "metadata": {
        "id": "eFrwpwRIqpHP"
      },
      "execution_count": null,
      "outputs": []
    },
    {
      "cell_type": "code",
      "source": [
        "#criando uma matriz de 6x3 com numeros aleatórios e transformando-a em array\n",
        "produtos=np.random.randint(50, 151, size=(6,3))\n",
        "np.array(produtos)\n",
        "print(produtos)"
      ],
      "metadata": {
        "id": "f9i-hSvoqs0I"
      },
      "execution_count": null,
      "outputs": []
    },
    {
      "cell_type": "code",
      "source": [
        "#armazenando os valores em cada produto e extraindo a média\n",
        "prod_A=produtos[:,0]\n",
        "prod_B=produtos[:,1]\n",
        "prod_C=produtos[:,2]\n",
        "print(f'A média de produção do produto A é {round(prod_A.mean())}')\n",
        "print(f'A média de produção do produto B é {round(prod_B.mean())}')\n",
        "print(f'A média de produção do produto C é {round(prod_C.mean())}')"
      ],
      "metadata": {
        "id": "hvj_LCyuqveP"
      },
      "execution_count": null,
      "outputs": []
    },
    {
      "cell_type": "code",
      "source": [
        "#armazenando o valor total da produção extraindo a maior dentre todas as semanas\n",
        "prod_total_semana=produtos.sum(axis=1)\n",
        "semana_maior_prod=np.argmax(prod_total_semana)+1\n",
        "maior_prod=np.max(prod_total_semana)\n",
        "print(f'A maior produção foi na semana {semana_maior_prod} com {maior_prod} no total')"
      ],
      "metadata": {
        "id": "6HXs4SIAqzsG"
      },
      "execution_count": null,
      "outputs": []
    },
    {
      "cell_type": "code",
      "source": [
        "#alterando o valor das produções em percentuais\n",
        "prod_A_ma20=prod_A\n",
        "prod_C_ma20=prod_C\n",
        "prod_B_me10=prod_B\n",
        "print(prod_A_ma20)\n",
        "print(prod_B_me10)\n",
        "print(prod_C_ma20)"
      ],
      "metadata": {
        "id": "NMlq2uDjq2fc"
      },
      "execution_count": null,
      "outputs": []
    },
    {
      "cell_type": "code",
      "source": [
        "prod_A_ma20=prod_A_ma20*1.2\n",
        "prod_C_ma20=prod_C_ma20*1.2\n",
        "prod_B_me10=prod_B_me10*0.9\n",
        "print(prod_A_ma20)\n",
        "print(prod_B_me10)\n",
        "print(prod_C_ma20)"
      ],
      "metadata": {
        "id": "iz2yIyTyq5GJ"
      },
      "execution_count": null,
      "outputs": []
    },
    {
      "cell_type": "code",
      "source": [
        "#comparando as diferenças apos a alteração percentual\n",
        "dif_A=prod_A_ma20-prod_A\n",
        "dif_B=prod_B_me10-prod_B\n",
        "dif_C=prod_C_ma20-prod_C\n",
        "print(dif_A)\n",
        "print(dif_B)\n",
        "print(dif_C)"
      ],
      "metadata": {
        "id": "lCiER3jRq8T-"
      },
      "execution_count": null,
      "outputs": []
    },
    {
      "cell_type": "code",
      "source": [
        "#utilizando mascara boleana\n",
        "masc=np.any(prod>120,axis=1)\n",
        "print(masc)"
      ],
      "metadata": {
        "id": "qwqna2I3q-rx"
      },
      "execution_count": null,
      "outputs": []
    },
    {
      "cell_type": "code",
      "source": [
        "#transposição de produtos\n",
        "prod_trans=prod.T\n",
        "print(prod_trans)"
      ],
      "metadata": {
        "id": "-TrQ2PjfrBCL"
      },
      "execution_count": null,
      "outputs": []
    }
  ]
}